{
 "cells": [
  {
   "cell_type": "markdown",
   "metadata": {},
   "source": [
    "# Actividad de Laboratorio de Razonamiento y planificación Automática"
   ]
  },
  {
   "cell_type": "markdown",
   "metadata": {},
   "source": [
    "Se tienen que hacer tres viajes, por tanto hay que tener una serie de consideraciones previamente.\n",
    "     1. Hay que decidir cual será el primer viaje, el segundo y el tercero, para ello se calculará la h* de ida y vuelta y se empezará por la que menor coste tenga, después se recalculará para ver cual de las otras dos tiene menor h* desde la nueva posición del robot para decidir que acción se ejecuta en segundo lugar.\n",
    "     2. Se considera que los repositorios no se pueden atravesar, es decir que los repositorios que no se muevan son considerados obstáculos cuando el robot esté transportándolos, y si se considera que el robot cuando se desplaza solo, puede pasar por debajo de los repositorios.\n",
    "     3. Habrá dos mapas, el original donde se reflejarán todo en cadena de caracteres y otro numérico para poder hacer mejor todas las consideraciones pertinentes."
   ]
  },
  {
   "cell_type": "markdown",
   "metadata": {},
   "source": [
    "A continuación, se muestra la disposición del mapa, indicando donde está el repositorio 1 (M1), el repositorio 2 (M2), el repositorio 3 (M3) y el robot (R). Las almohadillas (#) son considerados obstáculos que el robot no puede atravesar.\n",
    "En el mapa numérico se traducirá todo esto como:\n",
    "    1. M1=5\n",
    "    2. M2=4\n",
    "    3. M3=3\n",
    "    4. R=2\n",
    "    5. #=1\n",
    "    6. Los espacios vacíos que no son obstáculos como un 0\n",
    "Para ello se creará una función para traducir de uno a otro y viceversa"
   ]
  },
  {
   "cell_type": "code",
   "execution_count": 1,
   "metadata": {},
   "outputs": [
    {
     "data": {
      "text/plain": [
       "[['M1', '#', ' ', 'M3'],\n",
       " [' ', '#', ' ', ' '],\n",
       " ['M2', ' ', 'R', ' '],\n",
       " [' ', ' ', ' ', ' ']]"
      ]
     },
     "execution_count": 1,
     "metadata": {},
     "output_type": "execute_result"
    }
   ],
   "source": [
    "#Se representa en una matriz 4x4\n",
    "mapa=[['M1','#',' ','M3'],[' ','#',' ',' '],['M2',' ','R',' '],[' ',' ',' ',' ']]\n",
    "mapa"
   ]
  },
  {
   "cell_type": "markdown",
   "metadata": {},
   "source": [
    "La disposición final que se quiere es la que se mustra a continuación"
   ]
  },
  {
   "cell_type": "code",
   "execution_count": 2,
   "metadata": {},
   "outputs": [
    {
     "data": {
      "text/plain": [
       "[[' ', '#', ' ', ' '],\n",
       " [' ', '#', ' ', ' '],\n",
       " [' ', ' ', ' ', ' '],\n",
       " [' ', 'M3', 'M2', 'M1']]"
      ]
     },
     "execution_count": 2,
     "metadata": {},
     "output_type": "execute_result"
    }
   ],
   "source": [
    "#Se representa en una matriz 4x4\n",
    "meta=[[' ','#',' ',' '],[' ','#',' ',' '],[' ',' ',' ',' '],[' ','M3','M2','M1']]\n",
    "meta"
   ]
  },
  {
   "cell_type": "code",
   "execution_count": 3,
   "metadata": {},
   "outputs": [],
   "source": [
    "import numpy as np\n",
    "def convermap(mapa):\n",
    "    if mapa[0][0]=='M1' or mapa[0][0]=='M2' or mapa[0][0]=='M3' or\\\n",
    "        mapa[0][0]=='R' or mapa[0][0]==' ':\n",
    "        \n",
    "        for i in range(0,len(mapa)):\n",
    "            for j in range(0,len(mapa[len(mapa)-1])):\n",
    "                if mapa[i][j]=='M1':\n",
    "                    mapa[i][j]=5\n",
    "                elif mapa[i][j]=='M2':\n",
    "                    mapa[i][j]=4\n",
    "                elif mapa[i][j]=='M3':\n",
    "                    mapa[i][j]=3\n",
    "                elif mapa[i][j]=='R':\n",
    "                    mapa[i][j]=2\n",
    "                elif mapa[i][j]=='#':\n",
    "                    mapa[i][j]=1\n",
    "                elif mapa[i][j]==' ':\n",
    "                    mapa[i][j]=0\n",
    "        return mapa\n",
    "    else:\n",
    "        for i in range(0,len(mapa)):\n",
    "            for j in range(0,len(mapa[len(mapa)-1])):\n",
    "                if int(mapa[i][j])==0:\n",
    "                    mapa[i][j]=' '\n",
    "                elif int(mapa[i][j])==1:\n",
    "                    mapa[i][j]='#'\n",
    "                elif int(mapa[i][j])==2:\n",
    "                    mapa[i][j]='R'\n",
    "                elif int(mapa[i][j])==3:\n",
    "                    mapa[i][j]='M3'\n",
    "                elif int(mapa[i][j])==4:\n",
    "                    mapa[i][j]='M2'\n",
    "                elif int(mapa[i][j])==5:\n",
    "                    mapa[i][j]='M1'\n",
    "                elif int(mapa[i][j])==6:\n",
    "                    mapa[i][j]='M3'\n",
    "                elif int(mapa[i][j])==8:\n",
    "                    mapa[i][j]='M2'\n",
    "                elif int(mapa[i][j])==10:\n",
    "                    mapa[i][j]='M1'\n",
    "        return mapa"
   ]
  },
  {
   "cell_type": "code",
   "execution_count": 4,
   "metadata": {},
   "outputs": [
    {
     "data": {
      "text/plain": [
       "[[5, 1, 0, 3], [0, 1, 0, 0], [4, 0, 2, 0], [0, 0, 0, 0]]"
      ]
     },
     "execution_count": 4,
     "metadata": {},
     "output_type": "execute_result"
    }
   ],
   "source": [
    "x=convermap(mapa)\n",
    "x"
   ]
  },
  {
   "cell_type": "code",
   "execution_count": 5,
   "metadata": {},
   "outputs": [
    {
     "data": {
      "text/plain": [
       "[['M1', '#', ' ', 'M3'],\n",
       " [' ', '#', ' ', ' '],\n",
       " ['M2', ' ', 'R', ' '],\n",
       " [' ', ' ', ' ', ' ']]"
      ]
     },
     "execution_count": 5,
     "metadata": {},
     "output_type": "execute_result"
    }
   ],
   "source": [
    "y=convermap(x)\n",
    "y"
   ]
  },
  {
   "cell_type": "markdown",
   "metadata": {},
   "source": [
    "Ahora habría que hacer otra función que permitira calcular la h* de ida y vuelta para determinar cual sería el primer repositorio a mover, cual sería el segundo y cual sería el tercero. para ello hay que indicar donde está el situado el roboto, donde está cada repositorio y cual es su meta."
   ]
  },
  {
   "cell_type": "code",
   "execution_count": 6,
   "metadata": {},
   "outputs": [],
   "source": [
    "def h_ida_vuelta(posR,posM1,posM2,posM3):\n",
    "    #Se calculará esta eurística con la distancia Manhatttan\n",
    "    #Es conocido como premisa de la actividad que las metas de cada repositorio están predefinidas\n",
    "    #Meta M1=[3,3]\n",
    "    #Meta M2=[3,2]\n",
    "    #Meta M2=[3,1]\n",
    "    h1=sum([abs(posR[0]-posM1[0])+abs(posM1[0]-3),abs(posR[1]-posM1[1])+abs(posM1[1]-3)])\n",
    "    h2=sum([abs(posR[0]-posM2[0])+abs(posM2[0]-3),abs(posR[1]-posM2[1])+abs(posM2[1]-2)])\n",
    "    h3=sum([abs(posR[0]-posM3[0])+abs(posM3[0]-3),abs(posR[1]-posM3[1])+abs(posM3[1]-1)])\n",
    "    h_primera=min(h1,h2,h3)\n",
    "    #El siguente camino para averiguar cual tiene menor coste se hace desde una de las metas\n",
    "    if h_primera==h1:\n",
    "        h2=sum([abs(3-posM2[0])+abs(posM2[0]-3),abs(3-posM2[1])+abs(posM2[0]-2)])\n",
    "        h3=sum([abs(3-posM3[0])+abs(posM3[0]-3),abs(3-posM3[1])+abs(posM3[0]-1)])\n",
    "        h_segunda=min(h2,h3)\n",
    "        h_tercera=max(h2,h3)\n",
    "        h_primera=posM1\n",
    "        m_primera=[3,3]\n",
    "        if h_segunda==h2:\n",
    "            h_segunda=posM2\n",
    "            h_tercera=posM3\n",
    "            m_segunda=[3,2]\n",
    "            m_tercera=[3,1]\n",
    "        else:\n",
    "            h_segunda=posM3\n",
    "            h_tercera=posM2\n",
    "            m_segunda=[3,1]\n",
    "            m_tercera=[3,2]\n",
    "    elif h_primera==h2:\n",
    "        h1=sum([abs(3-posM1[0])+abs(posM1[0]-3),abs(2-posM1[1])+abs(posM1[1]-3)])\n",
    "        h3=sum([abs(3-posM3[0])+abs(posM3[0]-3),abs(2-posM3[1])+abs(posM3[1]-1)])\n",
    "        h_segunda=min(h1,h3)\n",
    "        h_tercera=max(h1,h3)\n",
    "        h_primera=posM2\n",
    "        m_primera=[3,2]\n",
    "        if h_segunda==h1:\n",
    "            h_segunda=posM1\n",
    "            h_tercera=posM3\n",
    "            m_segunda=[3,3]\n",
    "            m_tercera=[3,1]\n",
    "        else:\n",
    "            h_segunda=posM3\n",
    "            h_tercera=posM1\n",
    "            m_segunda=[3,1]\n",
    "            m_tercera=[3,3]\n",
    "    elif h_primera==h3:\n",
    "        h1=sum([abs(3-posM1[0])+abs(posM1[0]-3),abs(1-posM1[1])+abs(posM1[1]-3)])\n",
    "        h2=sum([abs(3-posM2[0])+abs(posM2[0]-3),abs(1-posM2[1])+abs(posM2[1]-2)])\n",
    "        h_segunda=min(h1,h2)\n",
    "        h_tercera=max(h1,h2)\n",
    "        h_primera=posM3\n",
    "        m_primera=[3,1]\n",
    "        if h_segunda==h2:\n",
    "            h_segunda=posM2\n",
    "            h_tercera=posM1\n",
    "            m_segunda=[3,2]\n",
    "            m_tercera=[3,3]\n",
    "        else:\n",
    "            h_segunda=posM1\n",
    "            h_tercera=posM2\n",
    "            m_segunda=[3,3]\n",
    "            m_tercera=[3,2]\n",
    "    return h_primera, h_segunda, h_tercera, m_primera, m_segunda, m_tercera"
   ]
  },
  {
   "cell_type": "code",
   "execution_count": 7,
   "metadata": {},
   "outputs": [
    {
     "name": "stdout",
     "output_type": "stream",
     "text": [
      "El primer viaje será el de la coordenada [2, 0]\n",
      "El segundo viaje será el de la coordenada[0, 3]         \n",
      "El tercer viaje será el de las coordenadas [0, 0]\n",
      "La meta 1 será el de la coordenada [3, 2]\n",
      "La meta 2 será el de la coordenada[3, 1]         \n",
      "La meta 3 viaje será el de las coordenadas [3, 3]\n"
     ]
    }
   ],
   "source": [
    "#Aquí se ejemplifica como funciona la función h_ida_vuelta\n",
    "travel1, travel2, travel3, meta1, meta2, meta3 = h_ida_vuelta([2,2],[0,0],[2,0],[0,3])\n",
    "print(f'El primer viaje será el de la coordenada {travel1}\\nEl segundo viaje será el de la coordenada{travel2} \\\n",
    "        \\nEl tercer viaje será el de las coordenadas {travel3}')\n",
    "print(f'La meta 1 será el de la coordenada {meta1}\\nLa meta 2 será el de la coordenada{meta2} \\\n",
    "        \\nLa meta 3 viaje será el de las coordenadas {meta3}')"
   ]
  },
  {
   "cell_type": "markdown",
   "metadata": {},
   "source": [
    "Hay que decir, que los costes de carga y descarga no se han contabilizado anteriormente ya que ese incremento de coste afecta a todos los repositorios por igual.\n",
    "Una vez creada la función que define cual sería el orden de actuación para buscar los repositorios, se implementa el código y para ello se creará la clase nodo, en la cual se podrán diferenciar los distintos nodos con su función de coste actualizada y donde te indica quien es el padre de ese nodo y su posición "
   ]
  },
  {
   "cell_type": "code",
   "execution_count": 8,
   "metadata": {},
   "outputs": [],
   "source": [
    "class Nodo():\n",
    "    #Se crea la función init para inicializar los nodos.\n",
    "    def __init__(self,padre=None, coordenada=None):\n",
    "        self.padre=padre\n",
    "        self.coordenada=coordenada\n",
    "        self.g_n=0\n",
    "        self.h_n=0\n",
    "        self.f_n=0\n",
    "        #Esta función es un método mágico que sirve para comprobar si un dato es igual a otro\n",
    "        #Esta función en este caso está pensada para que compruebe si la nueva coordenada es igual \n",
    "        #a alguna anterior para sí no entrar en un bucle infinito y que luego evalúe constantemente\n",
    "        #coordenadas ya evaluadas\n",
    "    def __eq__(self,other):\n",
    "        return self.coordenada==other.coordenada"
   ]
  },
  {
   "cell_type": "markdown",
   "metadata": {},
   "source": [
    "En la función que se mostrará a continuación, se implementará el algoritmo de A*"
   ]
  },
  {
   "cell_type": "code",
   "execution_count": 9,
   "metadata": {},
   "outputs": [],
   "source": [
    "#Esta función, devolverá los valores pasados por coordenadas\n",
    "def a_estrella(mapa,inicio,objetivo):\n",
    "    mapa=np.array(mapa)\n",
    "    #Primero se crea el nodo de inicio y y final,inicializandolos sin padres y sin valor en su función de coste\n",
    "    nodo_salida=Nodo(padre=None,coordenada=inicio)\n",
    "    nodo_salida.g_n=0\n",
    "    nodo_salida.h_n=0\n",
    "    nodo_salida.f_n=0\n",
    "    \n",
    "    nodo_llegada=Nodo(padre=None,coordenada=objetivo)\n",
    "    nodo_llegada.g_n=0\n",
    "    nodo_llegada.h_n=0\n",
    "    nodo_llegada.f_n=0\n",
    "    \n",
    "    #Después de inicializar los nodos, se tiene que crear la lista abierta y la lista cerrada tal como \n",
    "    #se especifica en el algoritmo A*\n",
    "    lista_abierta=[]\n",
    "    lista_cerrada=[]\n",
    "    \n",
    "    #Sabemos que tenemos que introducir el nodo de inicio en la lista abierta antes de expandirlo\n",
    "    lista_abierta.append(nodo_salida)\n",
    "    #En el siguiente bucle será donde se encuentr el camino que se quiere de A* y terminará cuando ya no haya \n",
    "    #datos en la lista abierta\n",
    "    while len(lista_abierta)>0:\n",
    "        #En el primer valor de la lista abierta estará el nodo actual con el que se está trabajando\n",
    "        actual=lista_abierta[0]\n",
    "        for i in range(0,len(lista_abierta)):\n",
    "            if lista_abierta[i].f_n<actual.f_n:\n",
    "                actual=lista_abierta[i]\n",
    "        #Hay que sacarlo de la lista abierta e incluirlo en la lista cerrada\n",
    "        lista_abierta.pop(lista_abierta.index(actual))\n",
    "        lista_cerrada.append(actual)\n",
    "        \n",
    "        #Si encuentra la meta se terminará el bucle\n",
    "        if actual==nodo_llegada:\n",
    "            ruta=[]\n",
    "            padre=actual\n",
    "            while padre is not None:\n",
    "                ruta.append(padre.coordenada)\n",
    "                padre=padre.padre\n",
    "            #Devuelve la ruta deseada A*\n",
    "            return list(reversed(ruta))\n",
    "        hijos=[]\n",
    "        #Este array se usa paraincrementar o disminuir en una unidad la posición del nodo a futuro\n",
    "        movimiento=[[0,-1],[0,1],[-1,0],[1,0]]\n",
    "        for nuevo_movimiento in movimiento:\n",
    "            nodo_evaluado=[int(actual.coordenada[0])+int(nuevo_movimiento[0]),\n",
    "                           int(actual.coordenada[1])+int(nuevo_movimiento[1])]\n",
    "                        \n",
    "            #Ahora se añade una condición para evitar que se escoja un camino vetado para encontrar la ruta\n",
    "            #Hay que considerar si se trata del viaje de ida o de vuelta\n",
    "            if nodo_evaluado[0]>(mapa.shape[0]-1) or nodo_evaluado[0]<0 or nodo_evaluado[1]>(mapa.shape[1]-1) \\\n",
    "                    or nodo_evaluado[1]<0:\n",
    "                #aquí se controla que no se salga del mapa\n",
    "                pass\n",
    "            elif int(mapa[nodo_evaluado[0],nodo_evaluado[1]])!=0:\n",
    "                #aquí se conmprueba que no se transpase con ningún muro\n",
    "                pass\n",
    "            else:\n",
    "                #Si el nodo a desplazarse es válido, se ejecuta este código\n",
    "                nuevo_nodo=Nodo(padre=actual,coordenada=nodo_evaluado)\n",
    "                #Se añade a la lista de hijo\n",
    "                hijos.append(nuevo_nodo)\n",
    "            \n",
    "            #En el siguiente bucle se comprobará quien puede ser hijo de que padre específico\n",
    "            \n",
    "            for hijo in hijos:\n",
    "                #Se quiere saber que hijo está en la lista cerrada, significa que no hay que evaluarlo y \n",
    "                #pasará al siguiente para no entrar en un bucle infinito\n",
    "                for hijo_cerrado in lista_cerrada:\n",
    "                    if hijo==hijo_cerrado:\n",
    "                        continue\n",
    "                #Aqui se evaluará la función de coste de cada coordenada\n",
    "                hijo.g_n=actual.g_n+1\n",
    "                hijo.h_n=sum([abs(hijo.coordenada[0]-objetivo[0]),abs(hijo.coordenada[1]-objetivo[1])])\n",
    "                hijo.f_n=hijo.g_n+hijo.h_n\n",
    "                \n",
    "                #Si el hijo ya estuviera en la lista abierta y el desplazamiento fuera más grande de la \n",
    "                #unidad se controla con esta parte del código\n",
    "                for abrir in lista_abierta:\n",
    "                    if hijo == abrir and hijo.g_n>abrir.g_n:\n",
    "                        continue\n",
    "                #Se incluye al hijo en la lista abierta para tener conciencia de que fue evaluado con sus datos actualizados\n",
    "                lista_abierta.append(hijo)"
   ]
  },
  {
   "cell_type": "markdown",
   "metadata": {},
   "source": [
    "Ahora se va a resolver el problema planteado usando las funciones creadas para ello y para ello se mostrará la posición inicial y cual es el objetivo que se pretende alcanzar"
   ]
  },
  {
   "cell_type": "code",
   "execution_count": 10,
   "metadata": {},
   "outputs": [
    {
     "data": {
      "text/plain": [
       "[['M1', '#', ' ', 'M3'],\n",
       " [' ', '#', ' ', ' '],\n",
       " ['M2', ' ', 'R', ' '],\n",
       " [' ', ' ', ' ', ' ']]"
      ]
     },
     "execution_count": 10,
     "metadata": {},
     "output_type": "execute_result"
    }
   ],
   "source": [
    "mapa"
   ]
  },
  {
   "cell_type": "code",
   "execution_count": 11,
   "metadata": {},
   "outputs": [
    {
     "data": {
      "text/plain": [
       "[[' ', '#', ' ', ' '],\n",
       " [' ', '#', ' ', ' '],\n",
       " [' ', ' ', ' ', ' '],\n",
       " [' ', 'M3', 'M2', 'M1']]"
      ]
     },
     "execution_count": 11,
     "metadata": {},
     "output_type": "execute_result"
    }
   ],
   "source": [
    "meta"
   ]
  },
  {
   "cell_type": "code",
   "execution_count": 12,
   "metadata": {},
   "outputs": [
    {
     "data": {
      "text/plain": [
       "[[5, 1, 0, 3], [0, 1, 0, 0], [4, 0, 2, 0], [0, 0, 0, 0]]"
      ]
     },
     "execution_count": 12,
     "metadata": {},
     "output_type": "execute_result"
    }
   ],
   "source": [
    "#Para poder trabajar mejor, se convertirá el mapa a código numérico pasándolo al mapa primo\n",
    "mapa_p=convermap(mapa)\n",
    "mapa_p"
   ]
  },
  {
   "cell_type": "code",
   "execution_count": 13,
   "metadata": {},
   "outputs": [],
   "source": [
    "#Una vez convertido a numérico, se tiene que decidir cual será la mejor opción para que el robot actúe\n",
    "#Las posiciones son las siguientes\n",
    "R=[2,2]\n",
    "posM1=[0,0]\n",
    "posM2=[2,0]\n",
    "posM3=[0,3]\n",
    "#Con esta función determinaremos el orden para que esté automátizado\n",
    "ida1, ida2, ida3, vuelta1, vuelta2, vuelta3=h_ida_vuelta(R,posM1,posM2,posM3)"
   ]
  },
  {
   "cell_type": "code",
   "execution_count": 14,
   "metadata": {},
   "outputs": [
    {
     "name": "stdout",
     "output_type": "stream",
     "text": [
      "[[2, 2], [2, 1], [2, 0], [2, 1], [2, 2], [3, 2]]\n"
     ]
    }
   ],
   "source": [
    "#Hay que eliminar todo el ruido del mapa conviertiéndolo a 0 y 1\n",
    "for i in range(0,len(mapa_p)):\n",
    "    for j in range(0,len(mapa_p[len(mapa_p)-1])):\n",
    "        if mapa_p[i][j]==5 or mapa_p[i][j]==5 or mapa_p[i][j]==4 or mapa_p[i][j]==3 or mapa_p[i][j]==2:\n",
    "            mapa_p[i][j]=0\n",
    "\n",
    "viaje1I=a_estrella(mapa,R,ida1)\n",
    "#En este punto, se ha cargado uno de los repositorios, así que los otros repositorios pasan a ser obstáculos\n",
    "mapa_p[ida2[0]][ida2[1]]=1\n",
    "mapa_p[ida3[0]][ida3[1]]=1\n",
    "viaje1V=a_estrella(mapa,ida1,vuelta1)\n",
    "\n",
    "#A partir de aquí, se convina las dos rutas\n",
    "ruta_primera=viaje1I\n",
    "ruta_primera.pop()\n",
    "ruta_primera.extend(viaje1V)\n",
    "print(ruta_primera)"
   ]
  },
  {
   "cell_type": "markdown",
   "metadata": {},
   "source": [
    "Una vez realizado el primer viaje los repositorios cambian de ser obstáculos a poder ser transpasado bajo ellos y cambian las dimensiones del mapa"
   ]
  },
  {
   "cell_type": "code",
   "execution_count": 15,
   "metadata": {},
   "outputs": [
    {
     "name": "stdout",
     "output_type": "stream",
     "text": [
      "[[3, 2], [3, 3], [2, 3], [1, 3], [0, 3], [0, 2], [1, 2], [2, 2], [2, 1], [3, 1]]\n"
     ]
    }
   ],
   "source": [
    "mapa_p[vuelta1[0]][vuelta1[1]]=0\n",
    "mapa_p[ida2[0]][ida2[1]]=0\n",
    "mapa_p[ida3[0]][ida3[1]]=0\n",
    "\n",
    "viaje2I=a_estrella(mapa_p,vuelta1,ida2)\n",
    "#En este punto, se ha cargado uno de los repositorios, así que los otros repositorios pasan a ser obstáculos\n",
    "mapa_p[vuelta1[0]][vuelta1[1]]=1\n",
    "mapa_p[ida3[0]][ida3[1]]=1\n",
    "viaje2V=a_estrella(mapa,ida2,vuelta2)\n",
    "\n",
    "#A partir de aquí, se convina las dos rutas\n",
    "ruta_segunda=viaje2I\n",
    "ruta_segunda.pop()\n",
    "ruta_segunda.extend(viaje2V)\n",
    "print(ruta_segunda)"
   ]
  },
  {
   "cell_type": "markdown",
   "metadata": {},
   "source": [
    "Otra vez se eliminan los obstáculos excepto los muros y se hace el último viaje"
   ]
  },
  {
   "cell_type": "code",
   "execution_count": 16,
   "metadata": {},
   "outputs": [
    {
     "name": "stdout",
     "output_type": "stream",
     "text": [
      "[[3, 1], [3, 0], [2, 0], [1, 0], [0, 0], [1, 0], [2, 0], [2, 1], [2, 2], [2, 3], [3, 3]]\n"
     ]
    }
   ],
   "source": [
    "mapa_p[vuelta1[0]][vuelta1[1]]=0\n",
    "mapa_p[vuelta2[0]][vuelta2[1]]=0\n",
    "mapa_p[ida3[0]][ida3[1]]=0\n",
    "\n",
    "viaje3I=a_estrella(mapa_p,vuelta2,ida3)\n",
    "#En este punto, se ha cargado uno de los repositorios, así que los otros repositorios pasan a ser obstáculos\n",
    "mapa_p[vuelta1[0]][vuelta1[1]]=1\n",
    "mapa_p[vuelta2[0]][vuelta2[1]]=1\n",
    "viaje3V=a_estrella(mapa,ida3,vuelta3)\n",
    "\n",
    "#A partir de aquí, se convina las dos rutas\n",
    "ruta_tercera=viaje3I\n",
    "ruta_tercera.pop()\n",
    "ruta_tercera.extend(viaje3V)\n",
    "print(ruta_tercera)"
   ]
  }
 ],
 "metadata": {
  "kernelspec": {
   "display_name": "Python 3",
   "language": "python",
   "name": "python3"
  },
  "language_info": {
   "codemirror_mode": {
    "name": "ipython",
    "version": 3
   },
   "file_extension": ".py",
   "mimetype": "text/x-python",
   "name": "python",
   "nbconvert_exporter": "python",
   "pygments_lexer": "ipython3",
   "version": "3.7.4"
  }
 },
 "nbformat": 4,
 "nbformat_minor": 2
}
